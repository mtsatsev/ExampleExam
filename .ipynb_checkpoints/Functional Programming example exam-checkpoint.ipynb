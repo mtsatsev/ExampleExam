{
 "cells": [
  {
   "cell_type": "markdown",
   "metadata": {},
   "source": [
    "# Instructions and remarks\n",
    "\n",
    "1. Put the code that you write in the cells with \"Answer here\" written on them. Write the code in the specified place. \n",
    "1. In this notebook you can make use of the luxury - typing on a computer, the actual exam is pen and paper. We advise you to at least attempt to solve the exam on paper as well. \n",
    "1. The exam should be doable within 2 hours. \n",
    "1. Advise: Do not compile until you are not ready to \"submit\"."
   ]
  },
  {
   "cell_type": "markdown",
   "metadata": {},
   "source": [
    "### Exercise 1 \n",
    "Student team Nicol and Simona are studying the following function:\n",
    "\n",
    "```scala\n",
    "def concat[A](as: List[List[A]], bs: List[List[A]]): List[List[A]] = (as, bs) match {\n",
    "  case (Nil, bs) => bs\n",
    "  case (as, Nil) => as\n",
    "  case (a :: as, b :: bs) => a ++ b :: concat(as, bs)\n",
    "}\n",
    "```\n",
    "Simona wants to use for comprehensions to obtain a shorter version of the above code. He wrote the following function:\n",
    "\n",
    "```scala\n",
    "def concat[A](as: List[List[A]], bs: List[List[A]]): List[List[A]] = for (a <- as) yield (\n",
    "    for (b <- bs) yield a ++ b\n",
    "    ).flatten\n",
    "```\n",
    "Simona claims that these two functions are equivalent, that is, given the same input they would produce the same output. Do you think that Simona is correct? If \"Yes\", give a informal explanation why (no proofs needed), if \"No\", then give a counter example.\n",
    "  "
   ]
  },
  {
   "cell_type": "markdown",
   "metadata": {},
   "source": [
    "Answer here"
   ]
  },
  {
   "cell_type": "markdown",
   "metadata": {},
   "source": [
    "### Exercise 2"
   ]
  },
  {
   "cell_type": "markdown",
   "metadata": {},
   "source": [
    "Nicol uses higher-order functions to make a more general version of concat:\n",
    "\n",
    "```scala\n",
    "def concatH[A, B, C](f: (A, B) => C)(a: A)(b: B)(as: List[A])(bs: List[B]): List[C] = \n",
    "(f, a, b, as, bs) match {\n",
    "  case (f, a, _, Nil, bs) => for (b <- bs) yield f(a, b)\n",
    "  case (f, _, b, as, Nil) => for (a <- as) yield f(a, b)\n",
    "  case (f, a, b, (a1 :: as), (b1 :: bs)) => f(a1, b1) :: concatH(f)(a)(b)(as)(bs)\n",
    "}\n",
    "```\n",
    "Now look at the definition below. What should Nicole add in the \"...\" to create a one line concat function using concatH."
   ]
  },
  {
   "cell_type": "markdown",
   "metadata": {},
   "source": [
    "Answer here\n",
    "\n",
    "```scala\n",
    "def concat[A](as:List[List[A]],bs:List[List[A]]): List[List[A]] = {\n",
    "    concatH(...)(...)(...)(as)(bs)\n",
    "}\n",
    "```"
   ]
  },
  {
   "cell_type": "markdown",
   "metadata": {},
   "source": [
    "### Exercise 3"
   ]
  },
  {
   "cell_type": "markdown",
   "metadata": {},
   "source": [
    "The function concat operates on two lists, both having type ```List[List[A]]```. Nicole and Simona want to use this function to create a new function, concats, that operates on an arbitrary number of lists, represented with type ```List[List[List[A]]]```. You muse use foldLeft or FoldRight. Finish the following function definition as above. You are allowed to use both the library functions foldLeft and foldRight written as list.foldLeft, list.foldRight or use them as the teacher did in his slides, namely as separate function foldLeft or foldRight.\n",
    "\n",
    "```scala\n",
    "def foldRight[A, B](as: List[A])(f: (A, B) => B)(b: B): B\n",
    "def foldLeft[A, B](as: List[A])(f: (B, A) => B)(b: B): B\n",
    "```"
   ]
  },
  {
   "cell_type": "markdown",
   "metadata": {},
   "source": [
    "Answer here\n",
    "```scala\n",
    "def concats [T](list:List[List[List[T]]]): List[List[T]] = {\n",
    "    ...       ...        ...\n",
    "}\n",
    "```"
   ]
  },
  {
   "cell_type": "markdown",
   "metadata": {},
   "source": [
    "### Exercise 4"
   ]
  },
  {
   "cell_type": "markdown",
   "metadata": {},
   "source": [
    "Look at the following data types which construct the family tree of a person:\n",
    "\n",
    "```scala\n",
    "type Year = Int\n",
    "type Child = Person\n",
    "type Name = String\n",
    "type Parents = (Info,Info)\n",
    "\n",
    "case class Info(name: Name, birth: Year)\n",
    "case class Spouse(info: Info, chilren: List[Child])\n",
    "case class Person(info: Info, spouses: List[Spouse])\n",
    "```\n",
    "\n",
    "Persons are identified by means of Info that contains their name and year of birth. For simplicity, we assume that this pair of information uniquely identifies any person within a family tree. A person may have zero, one, two, or more spouses. A Spouse is also identified by means of an Info value. With each spouse, that person and spouse can have zero, one, two, or more children , and that person and spouse are the Parents ofthese children. Each child is again a Person, hence this is a recursive data structure. The below figure gives an example of a family tree.\n",
    "\n",
    "For the exercise infer the most general type of the functions. They might be polymorphic."
   ]
  },
  {
   "cell_type": "markdown",
   "metadata": {},
   "source": [
    "#### Part 1\n",
    "```scala\n",
    "f1(Info(Person(name,birth),spouses)) = (name,birth)\n",
    "```\n",
    "#### Part 2\n",
    "```scala\n",
    "f2(x,Nil) = x\n",
    "f2(x,(y::ys)) = if (x.info.birth < y.info.birth) f2 (y,ys) else f2 (x,ys)\n",
    "```\n",
    "#### Part 3\n",
    "```scala\n",
    "f3(x,y) = x::y\n",
    "```\n",
    "#### Part 4\n",
    "```scala\n",
    "f4(x)(a,b,c) = if (x == a) b + c else if (x == b) a + c else if (x == c) a + b else a + b + c\n",
    "```\n",
    "#### Part 5\n",
    "```scala\n",
    "f5(f)(x)(Nil)   = List()\n",
    "f5(f)(x)(y::ys) = if (f(x,y)) y :: f5(f)(x)(ys) else f5(f)(x)(ys)\n",
    "```"
   ]
  },
  {
   "cell_type": "markdown",
   "metadata": {},
   "source": [
    "Answer here"
   ]
  },
  {
   "cell_type": "markdown",
   "metadata": {},
   "source": [
    "### Exercise 5\n",
    "\n",
    "We continue with the family tree types. To get access to the year of birth of several types, we introduce an overloaded function\n"
   ]
  },
  {
   "cell_type": "markdown",
   "metadata": {},
   "source": [
    "Answer here\n",
    "\n",
    "```scala\n",
    "case class birthOf(){\n",
    "  def birthOf(Info:Info): Year = \n",
    "  def birthOf(person: Person): Year = \n",
    "  def birthOf(spouse: Spouse): Year = \n",
    "}\n",
    "```"
   ]
  },
  {
   "cell_type": "markdown",
   "metadata": {},
   "source": [
    "To get access to the children of several types, we introduce an overloaded function in a class:\n"
   ]
  },
  {
   "cell_type": "markdown",
   "metadata": {},
   "source": [
    "Answer here\n",
    "\n",
    "```scala\n",
    "case class childrenOf(){\n",
    "  def childrenOf(spouse: Spouse): List[Child] = \n",
    "  def childrenOf(person: Person): List[Child] = \n",
    "}\n",
    "```"
   ]
  },
  {
   "cell_type": "markdown",
   "metadata": {},
   "source": [
    "### Exercise 6\n",
    "\n",
    "We continue with the family tree types. Write a predicate function which tests if a child is actually older than both of its parents"
   ]
  },
  {
   "cell_type": "markdown",
   "metadata": {},
   "source": [
    "Answer here\n",
    "\n",
    "```scala\n",
    "def childIsYounger(parents: Parents,child: Child): Boolean = \n",
    "```"
   ]
  },
  {
   "cell_type": "markdown",
   "metadata": {},
   "source": [
    "Write a predicate function that tests whether all children of a person and spouses are actually younger than that person and spouse couple\n"
   ]
  },
  {
   "cell_type": "markdown",
   "metadata": {},
   "source": [
    "Answer here\n",
    "\n",
    "```scala\n",
    "def childrenActuallyYounger (person: Person): Boolean = \n",
    "```"
   ]
  },
  {
   "cell_type": "markdown",
   "metadata": {},
   "source": [
    "Write a predicate function which tests the property childrenActuallyYounger is true for the entire family tree\n"
   ]
  },
  {
   "cell_type": "markdown",
   "metadata": {},
   "source": [
    "Answer here\n",
    "\n",
    "```scala\n",
    "def allChildrenAreYounger(person: Person): Boolean = \n",
    "```"
   ]
  },
  {
   "cell_type": "markdown",
   "metadata": {},
   "source": [
    "### Exercise 7\n",
    "\n",
    "Generations Of a family tree, we wish to compute the generations of that family tree. The person at the root of the family tree has generation number 0. The children of that person have generation number 1, their children have generation number 2, and so on. The result of the function is a list of the names of the generations, such that the members of the first list member have generation number 0, the members of the second list member have generation number 1, the members of the third list member have generation number 2, and so on."
   ]
  },
  {
   "cell_type": "markdown",
   "metadata": {},
   "source": [
    "Answer here\n",
    "\n",
    "```scala\n",
    "def generations (person: Person): List[List[Name]] = \n",
    "```"
   ]
  },
  {
   "cell_type": "markdown",
   "metadata": {},
   "source": [
    "### Exercise 8\n",
    "\n",
    "Reasoning:"
   ]
  },
  {
   "cell_type": "markdown",
   "metadata": {},
   "source": [
    "```scala\n",
    "def reverse[A](as:List[A]):List[A] = as match{\n",
    "  case Nil     => Nil                                          (1)\n",
    "  case (x::xs) => reverse(xs) ++ List(x)                       (2)\n",
    "}\n",
    "\n",
    "def ++[A](xs:List[A],ys:List[A]): List[A] = (xs,ys) match {\n",
    "  case (Nil,ys)   => ys                                        (3)\n",
    "  case (x::xs,ys) => x :: ++ (xs,ys)                           (4)\n",
    "}\n",
    "```\n",
    "\n",
    "Prove the following property, $\\forall ys \\in List[A]$, x:A then reverse(ys ++ List(x)) = x :: reverse(yes)\n"
   ]
  },
  {
   "cell_type": "markdown",
   "metadata": {},
   "source": [
    "Answer here\n"
   ]
  },
  {
   "cell_type": "markdown",
   "metadata": {},
   "source": [
    "### Exercise 9 \n",
    "\n",
    "Use the below definitions to compute the normal form of the below program in exactly three steps:"
   ]
  },
  {
   "cell_type": "markdown",
   "metadata": {},
   "source": [
    "```scala\n",
    "reverse(ys ++ List(x)) = x :: reverse(ys)           (5)\n",
    "as ++ (bs ++ cs)       = (as ++ bs) ++ cs           (6)\n",
    "hd(x::xs)              = x                          (7)\n",
    "```"
   ]
  },
  {
   "cell_type": "markdown",
   "metadata": {},
   "source": [
    "Answer here\n",
    "```scala\n",
    "start = hd (reverse(List(1,2,3)++(List(4,5,6)++List(7)))\n",
    "      = ...\n",
    "      = ...\n",
    "      = ...\n",
    "```"
   ]
  }
 ],
 "metadata": {
  "kernelspec": {
   "display_name": "Python 3",
   "language": "python",
   "name": "python3"
  },
  "language_info": {
   "codemirror_mode": {
    "name": "ipython",
    "version": 3
   },
   "file_extension": ".py",
   "mimetype": "text/x-python",
   "name": "python",
   "nbconvert_exporter": "python",
   "pygments_lexer": "ipython3",
   "version": "3.7.3"
  }
 },
 "nbformat": 4,
 "nbformat_minor": 4
}
