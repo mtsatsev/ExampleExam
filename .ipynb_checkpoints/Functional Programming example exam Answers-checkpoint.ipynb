{
 "cells": [
  {
   "cell_type": "markdown",
   "metadata": {},
   "source": [
    "# Instructions and remarks\n",
    "\n",
    "1. Put the code that you write in the cells with \"Answer here\" written on them. Write the code in the specified place. \n",
    "1. In this notebook you can make use of the luxury - typing on a computer, the actual exam is pen and paper. We advise you to at least attempt to solve the exam on paper as well. \n",
    "1. The exam should be doable within 2 hours. \n",
    "1. Advise: Do not compile until you are not ready to \"submit\".\n",
    "1. There are in total 75 points. 42 are the minimum to pass."
   ]
  },
  {
   "cell_type": "markdown",
   "metadata": {},
   "source": [
    "### Exercise 1 (5 points)\n",
    "Student team Nicol and Simona are studying the following function:\n",
    "\n",
    "```scala\n",
    "def concat[A](as: List[List[A]], bs: List[List[A]]): List[List[A]] = (as, bs) match {\n",
    "  case (Nil, bs) => bs\n",
    "  case (as, Nil) => as\n",
    "  case (a :: as, b :: bs) => a ++ b :: concat(as, bs)\n",
    "}\n",
    "```\n",
    "Simona wants to use for comprehensions to obtain a shorter version of the above code. He wrote the following function:\n",
    "\n",
    "```scala\n",
    "def concat2[A](as: List[List[A]], bs: List[List[A]]): List[List[A]] =\n",
    "    for ((a, b) <- as zip bs) yield (a ++ b)\n",
    "```\n",
    "Simona claims that these two functions are equivalent, that is, given the same input they would produce the same output. Do you think that Simona is correct? If \"Yes\", give a informal explanation why (no proofs needed), if \"No\", then give a counter example."
   ]
  },
  {
   "cell_type": "markdown",
   "metadata": {},
   "source": [
    "No, Simona isn't correct. In the second definition, before the sub-lists are appended with ++, they are first put into a list of tuples via zip, which constructs a new list of tuples. Each tuple will be constructed with one element of as and one of bs. But if one list runs out of element before the other, zip will not be able to construct a tuple, since it only has one of the required elements. The best option that zip has is stopping the construction of the list of tuples, meaning that any left over sub-lists will not be included in the result. For example, say that as = List(List(11), List(12), List(13)) and bs = List(List(21), List(22)). Then the first definition will result in List(List(11, 21), List(12, 22), List(13)), but the second definition will stop after the second sub-list and result in List(List(11, 21), List(12, 22))\n",
    "\n",
    "* 2 points: Correct answer.\n",
    "* 3 points: Provided and correct explanation."
   ]
  },
  {
   "cell_type": "markdown",
   "metadata": {},
   "source": [
    "### Exercise 2 (5 points)"
   ]
  },
  {
   "cell_type": "markdown",
   "metadata": {},
   "source": [
    "Nicol uses higher-order functions to make a more general version of concat:\n",
    "\n",
    "```scala\n",
    "def concatH[A, B, C](f: (A, B) => C)(a: A)(b: B)(as: List[A])(bs: List[B]): List[C] = \n",
    "(f, a, b, as, bs) match {\n",
    "  case (f, a, _, Nil, bs) => for (b <- bs) yield f(a, b)\n",
    "  case (f, _, b, as, Nil) => for (a <- as) yield f(a, b)\n",
    "  case (f, a, b, (a1 :: as), (b1 :: bs)) => f(a1, b1) :: concatH(f)(a)(b)(as)(bs)\n",
    "}\n",
    "```\n",
    "Now look at the definition below. What should Nicole add in the \"...\" to create a one line concat function using concatH."
   ]
  },
  {
   "cell_type": "markdown",
   "metadata": {},
   "source": [
    "\n",
    "```scala\n",
    "def concat[A](as:List[List[A]],bs:List[List[A]]): List[List[A]] = {\n",
    "    concatH((a: List[A], b:List[A]) => a ++ b)(Nil)(Nil)(as)(bs)\n",
    "}\n",
    "```\n",
    "\n",
    "* 5 points for correct implementation.\n",
    "* Points deducted if the type of a and b is not specified correctly."
   ]
  },
  {
   "cell_type": "markdown",
   "metadata": {},
   "source": [
    "### Exercise 3 (5 points)"
   ]
  },
  {
   "cell_type": "markdown",
   "metadata": {},
   "source": [
    "The function concat operates on two lists, both having type ```List[List[A]]```. Nicole and Simona want to use this function to create a new function, concats, that operates on an arbitrary number of lists, represented with type ```List[List[List[A]]]```. You muse use foldLeft or FoldRight. Finish the following function definition as above. You are allowed to use both the library functions foldLeft and foldRight written as list.foldLeft, list.foldRight or use them as the teacher did in his slides, namely as separate function foldLeft or foldRight.\n",
    "\n",
    "```scala\n",
    "def foldRight[A, B](as: List[A])(f: (A, B) => B)(b: B): B\n",
    "def foldLeft[A, B](as: List[A])(f: (B, A) => B)(b: B): B\n",
    "```"
   ]
  },
  {
   "cell_type": "markdown",
   "metadata": {},
   "source": [
    "```scala\n",
    "def concats [T](list:List[List[List[T]]]): List[List[T]] = {\n",
    "    list.foldLeft(List(List()):List[List[T]])(concat)\n",
    "}\n",
    "\n",
    "or \n",
    "\n",
    "def concats [T](list:List[List[List[T]]]): List[List[T]] = {\n",
    "    list.foldRight(List(List()):List[List[T]])(concat)\n",
    "}\n",
    "\n",
    "```\n",
    "\n",
    "xs ++ [] = xs and [] ++ xs = xs, therefor in this example both foldRight and foldLeft are correct.\n",
    "\n",
    "You could have also obtained the same results using the defined functions on top:\n",
    "\n",
    "```scala\n",
    "def concats [T](list:List[List[List[T]]]): List[List[T]] = {\n",
    "    foldLeft(list)(concat)(List(List()):List[List[T]])\n",
    "}\n",
    "``` \n",
    "\n",
    "* 5 points for correct implementation.\n",
    "* Points deducted if the type of List(List()) is not specified."
   ]
  },
  {
   "cell_type": "markdown",
   "metadata": {},
   "source": [
    "### Exercise 4 (10 points)"
   ]
  },
  {
   "cell_type": "markdown",
   "metadata": {},
   "source": [
    "Look at the following data types which construct the family tree of a person:\n",
    "\n",
    "```scala\n",
    "type Year = Int\n",
    "type Child = Person\n",
    "type Name = String\n",
    "type Parents = (Info,Info)\n",
    "\n",
    "case class Info(name: Name, birth: Year)\n",
    "case class Spouse(info: Info, chilren: List[Child])\n",
    "case class Person(info: Info, spouses: List[Spouse])\n",
    "```\n",
    "\n",
    "Persons are identified by means of Info that contains their name and year of birth. For simplicity, we assume that this pair of information uniquely identifies any person within a family tree. A person may have zero, one, two, or more spouses. A Spouse is also identified by means of an Info value. With each spouse, that person and spouse can have zero, one, two, or more children , and that person and spouse are the Parents ofthese children. Each child is again a Person, hence this is a recursive data structure. The below figure gives an example of a family tree.\n",
    "\n",
    "For the exercise infer the most general type of the functions. They might be polymorphic."
   ]
  },
  {
   "cell_type": "markdown",
   "metadata": {},
   "source": [
    "#### Part 1\n",
    "```scala\n",
    "f1(Info(Person(name,birth),spouses)) = (name,birth)\n",
    "```\n",
    "#### Part 2\n",
    "```scala\n",
    "f2(x,Nil) = x\n",
    "f2(x,(y::ys)) = if (x.info.birth < y.info.birth) f2 (y,ys) else f2 (x,ys)\n",
    "```\n",
    "#### Part 3\n",
    "```scala\n",
    "f3(x,y) = x::y\n",
    "```\n",
    "#### Part 4\n",
    "```scala\n",
    "f4(f)(x)(Nil)   = List()\n",
    "f4(f)(x)(y::ys) = if (f(x,y)) y :: f4(f)(x)(ys) else f4(f)(x)(ys)\n",
    "```"
   ]
  },
  {
   "cell_type": "markdown",
   "metadata": {},
   "source": [
    "```scala\n",
    "def f1(person:Person):(Name,Year) = ???\n",
    "def f2 (person:Person,people:List[Person]):Person = ???\n",
    "def f3 [A](a:A,as:List[A]):List[A] = ???\n",
    "def f4[A,B](f: (A,B) => Boolean)(a: A)(bs: List[B]):List[B] = ???\n",
    "```\n",
    "\n",
    "* 2 points for f1, f2 and f3.\n",
    "* 4 points for f4."
   ]
  },
  {
   "cell_type": "markdown",
   "metadata": {},
   "source": [
    "### Exercise 5 (10 points)\n",
    "\n",
    "We continue with the family tree types. To get access to the year of birth and children of several types, we introduce two traits\n",
    "\n",
    "```scala\n",
    "trait BirthOf[T]{\n",
    "   def birthOf(t:T): Year\n",
    "}\n",
    "\n",
    "trait ChildrenOf[T]{\n",
    "  def childrenOf(t:T): List[Child]\n",
    "}\n",
    "```"
   ]
  },
  {
   "cell_type": "markdown",
   "metadata": {},
   "source": [
    "```scala\n",
    "implicit class BirthOfSyntax[T: BirthOf](t: T) {\n",
    "  def birthOf: Year = implicitly[BirthOf[T]].birthOf(t)\n",
    "}\n",
    "\n",
    "implicit class ChildrenOfSyntax[T: ChildrenOf](t: T) {\n",
    "  def childrenOf: List[Child] = implicitly[ChildrenOf[T]].childrenOf(t)\n",
    "}\n",
    "\n",
    "implicit val birthOfInfo: BirthOf[Info] = new BirthOf[Info]{\n",
    "  override def birthOf(t: Info): Year = t.birth\n",
    "\n",
    "}\n",
    "implicit val birthOfPerson: BirthOf[Person] = new BirthOf[Person]{\n",
    "  override def birthOf(t: Person): Year = t.info.birth\n",
    "\n",
    "}\n",
    "implicit val birthOfSpouse: BirthOf[Spouse] = new BirthOf[Spouse]{\n",
    "  override def birthOf(t: Spouse): Year = t.info.birth\n",
    "\n",
    "}\n",
    "implicit val childrenOfSpouse: ChildrenOf[Spouse] = new ChildrenOf[Spouse]{\n",
    "  override def childrenOf(t: Spouse): List[Child] = t.children\n",
    "\n",
    "}\n",
    "implicit val childrenOfPerson: ChildrenOf[Person] = new ChildrenOf[Person]{\n",
    "  override def childrenOf(t: Person): List[Child] = {\n",
    "      for ( s <- t.spouses; c <- s.children ) yield c\n",
    "  }\n",
    "}\n",
    "```\n",
    "\n",
    "* 4 points for childrenOf Spouse.\n",
    "* 6 points for childrenOf Person.\n",
    "* Points deducted if the implementation is wrong."
   ]
  },
  {
   "cell_type": "markdown",
   "metadata": {},
   "source": [
    "### Exercise 6 (15 points)\n",
    "\n",
    "We continue with the family tree types. Write a predicate function which tests if a child is actually older than both of its parents"
   ]
  },
  {
   "cell_type": "markdown",
   "metadata": {},
   "source": [
    "```scala\n",
    "def childIsYounger(parents: Parents, child: Child): Boolean = {\n",
    "    child.birthOf > parents._1.birthOf && child.birthOf > parents._2.birthOf\n",
    "}\n",
    "\n",
    "\n",
    "```"
   ]
  },
  {
   "cell_type": "markdown",
   "metadata": {},
   "source": [
    "Write a predicate function that tests whether all children of a person and spouses are actually younger than that person and spouse couple\n"
   ]
  },
  {
   "cell_type": "markdown",
   "metadata": {},
   "source": [
    "```scala\n",
    "def childrenAreYounger (person: Person): Boolean = (for {\n",
    "  s <- person.spouses\n",
    "  c <- s.children\n",
    "} yield (s, c)).forall { case (s, c) => childIsYounger((person.info, s.info), c) }\n",
    "```"
   ]
  },
  {
   "cell_type": "markdown",
   "metadata": {},
   "source": [
    "Write a predicate function which tests the property childrenActuallyYounger is true for the entire family tree\n"
   ]
  },
  {
   "cell_type": "markdown",
   "metadata": {},
   "source": [
    "```scala\n",
    "def allChildrenAreYounger(person: Person): Boolean = {\n",
    "    childrenAreYounger(person) && person.childrenOf.forall(allChildrenAreYounger)\n",
    "}\n",
    "```"
   ]
  },
  {
   "cell_type": "markdown",
   "metadata": {},
   "source": [
    "* 5 points per function.\n",
    "* Points deducted if the implementation is wrong."
   ]
  },
  {
   "cell_type": "markdown",
   "metadata": {},
   "source": [
    "### Exercise 7 (10 points)\n",
    "\n",
    "Generations Of a family tree, we wish to compute the generations of that family tree. The person at the root of the family tree has generation number 0. The children of that person have generation number 1, their children have generation number 2, and so on. The result of the function is a list of the names of the generations, such that the members of the first list member have generation number 0, the members of the second list member have generation number 1, the members of the third list member have generation number 2, and so on."
   ]
  },
  {
   "cell_type": "markdown",
   "metadata": {},
   "source": [
    "```scala\n",
    "def generations (person: Person): List[List[Name]] = {\n",
    "  def you(person:Person):Name = person.info.name\n",
    "  (you(person) :: Nil) :: concats(person.childrenOf.map((x:Person) => generations(x)))\n",
    "}\n",
    "```\n",
    "\n",
    "This function can be built without the use of the function ```you```.\n",
    "\n",
    "* Points deducted if the recursive call to the children is missing."
   ]
  },
  {
   "cell_type": "markdown",
   "metadata": {},
   "source": [
    "### Exercise 8 (10 points)\n",
    "\n",
    "Reasoning:"
   ]
  },
  {
   "cell_type": "markdown",
   "metadata": {},
   "source": [
    "```scala\n",
    "def reverse[A](as:List[A]):List[A] = as match{\n",
    "  case Nil     => Nil                                          (1)\n",
    "  case (x::xs) => reverse(xs) ++ List(x)                       (2)\n",
    "}\n",
    "\n",
    "def ++[A](xs:List[A],ys:List[A]): List[A] = (xs,ys) match {\n",
    "  case (Nil,ys)   => ys                                        (3)\n",
    "  case (x::xs,ys) => x :: ++ (xs,ys)                           (4)\n",
    "}\n",
    "```\n",
    "\n",
    "Prove the following property, $\\forall ys \\in List[A]$, x:A then reverse(ys ++ List(x)) = x :: reverse(ys)\n"
   ]
  },
  {
   "cell_type": "markdown",
   "metadata": {},
   "source": [
    "*Proof*: By induction on the length of ys \n",
    "    \n",
    "base case: assume ys = [] \n",
    "   \n",
    "Prove: $\\forall$ x : A , reverse (ys ++ List(x)) = x :: reverse(ys)\n",
    "\n",
    "Proof:\n",
    "\n",
    "    (assumption) reverse(ys ++ List(x)) = x :: reverse(ys)   (assumption)\n",
    "    (3)      <=> reverse([] ++ List(x)) = x :: reverse(Nil)  (1)\n",
    "                               ********        ************\n",
    "    (2)      <=> reverse(List(x))       = x :: (Nil)         (::)\n",
    "                 ****************              *****\n",
    "    (1)      <=> reverse(Nil) ++ List(x)= List(x)\n",
    "                 ************\n",
    "    (3)      <=> Nil ++ List(x)         = List(x)\n",
    "                 **************\n",
    "             <=> List(x)                = List(x)\n",
    "    \n",
    "Inductive case: assume the property holds for some ys:\n",
    "    $\\forall x:A$, ```reverse (ys++List(x) = x :: reverse(ys)``` (**IH**)\n",
    "\n",
    "Prove: $\\forall y: A, x:A$, reverse ((y::ys) ++ List(x)) = x :: reverse(y::ys)\n",
    "\n",
    "Proof:\n",
    "\n",
    "\n",
    "    (4)      <=> reverse ((y::ys) ++ List(x))      = x :: reverse(y::ys)          (2)\n",
    "                          ******************         **************\n",
    "    (2)      <=> reverse (y :: + (ys,List(x))      = x :: reverse(ys) ++ List(y)  (4)\n",
    "                 ****************************      = ***************************\n",
    "    (IH)     <=> reverse(ys ++ List(x)) ++ List(y) = (x :: reverse(ys)) ++ List(y)\n",
    "                 **********************            = (x :: reverse(ys)) ++ List(y)\n",
    "             <=> (x :: reverse(ys)) ++ List(y)     = x :: reverse(ys)) ++ List(y)\n",
    "\n",
    "* 3 poitns for correct and solved base case\n",
    "* 2 points for correct Induction hypothesis\n",
    "* 5 points for solving the inductive case"
   ]
  },
  {
   "cell_type": "markdown",
   "metadata": {},
   "source": [
    "### Exercise 9 (5 points)\n",
    "\n",
    "Use definitions below to compute the normal form of the below program in exactly three steps:"
   ]
  },
  {
   "cell_type": "markdown",
   "metadata": {},
   "source": [
    "```scala\n",
    "reverse(ys ++ List(x)) = x :: reverse(ys)           (1)\n",
    "as ++ (bs ++ cs)       = (as ++ bs) ++ cs           (2)\n",
    "hd(x::xs)              = x                          (3)\n",
    "```"
   ]
  },
  {
   "cell_type": "markdown",
   "metadata": {},
   "source": [
    "```scala\n",
    "start = hd (reverse(List(1,2,3)++(List(4,5,6)++List(7)))      (2)\n",
    "      = hd (reverse((List(1,2,3) ++ List(4,5,6)) ++ List(7))) (1)\n",
    "      = hd (7 :: reverse((List(1,2,3) ++ List(4,5,6)))        (3)\n",
    "      = 7\n",
    "```"
   ]
  }
 ],
 "metadata": {
  "kernelspec": {
   "display_name": "Python 3",
   "language": "python",
   "name": "python3"
  },
  "language_info": {
   "codemirror_mode": {
    "name": "ipython",
    "version": 3
   },
   "file_extension": ".py",
   "mimetype": "text/x-python",
   "name": "python",
   "nbconvert_exporter": "python",
   "pygments_lexer": "ipython3",
   "version": "3.7.3"
  }
 },
 "nbformat": 4,
 "nbformat_minor": 4
}
